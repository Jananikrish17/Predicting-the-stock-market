{
 "cells": [
  {
   "cell_type": "markdown",
   "metadata": {},
   "source": [
    "## Predicting the stock market"
   ]
  },
  {
   "cell_type": "markdown",
   "metadata": {},
   "source": [
    "###  Introduction\n",
    "\n",
    "This project aim to make predictions about future prices based on the historical data on the price of the S&P500 Index.This prediction will help to forecast how the stock market as a whole will performs.\n",
    "\n",
    "The S&P500 is a stock market index. A stock index or stock market index is an index that measures the stock market or a subset of the stock market, that helps investors compare current price levels with past prices to calculate market performance\n",
    "\n",
    "Each row in the a daily record of the price of the S&P500 Index from 1950 to 2015. The dataset is stored in sphist.csv."
   ]
  },
  {
   "cell_type": "code",
   "execution_count": 1,
   "metadata": {},
   "outputs": [],
   "source": [
    "import pandas as pd\n",
    "import numpy as np\n",
    "from datetime import datetime\n",
    "from sklearn.linear_model import LinearRegression\n",
    "from sklearn.metrics import mean_absolute_error, mean_squared_error\n",
    "import matplotlib.pyplot as plt\n",
    "import seaborn as sns"
   ]
  },
  {
   "cell_type": "code",
   "execution_count": 2,
   "metadata": {
    "scrolled": false
   },
   "outputs": [
    {
     "data": {
      "text/html": [
       "<div>\n",
       "<style scoped>\n",
       "    .dataframe tbody tr th:only-of-type {\n",
       "        vertical-align: middle;\n",
       "    }\n",
       "\n",
       "    .dataframe tbody tr th {\n",
       "        vertical-align: top;\n",
       "    }\n",
       "\n",
       "    .dataframe thead th {\n",
       "        text-align: right;\n",
       "    }\n",
       "</style>\n",
       "<table border=\"1\" class=\"dataframe\">\n",
       "  <thead>\n",
       "    <tr style=\"text-align: right;\">\n",
       "      <th></th>\n",
       "      <th>Date</th>\n",
       "      <th>Open</th>\n",
       "      <th>High</th>\n",
       "      <th>Low</th>\n",
       "      <th>Close</th>\n",
       "      <th>Volume</th>\n",
       "      <th>Adj Close</th>\n",
       "    </tr>\n",
       "  </thead>\n",
       "  <tbody>\n",
       "    <tr>\n",
       "      <th>0</th>\n",
       "      <td>2015-12-07</td>\n",
       "      <td>2090.419922</td>\n",
       "      <td>2090.419922</td>\n",
       "      <td>2066.780029</td>\n",
       "      <td>2077.070068</td>\n",
       "      <td>4.043820e+09</td>\n",
       "      <td>2077.070068</td>\n",
       "    </tr>\n",
       "    <tr>\n",
       "      <th>1</th>\n",
       "      <td>2015-12-04</td>\n",
       "      <td>2051.239990</td>\n",
       "      <td>2093.840088</td>\n",
       "      <td>2051.239990</td>\n",
       "      <td>2091.689941</td>\n",
       "      <td>4.214910e+09</td>\n",
       "      <td>2091.689941</td>\n",
       "    </tr>\n",
       "    <tr>\n",
       "      <th>2</th>\n",
       "      <td>2015-12-03</td>\n",
       "      <td>2080.709961</td>\n",
       "      <td>2085.000000</td>\n",
       "      <td>2042.349976</td>\n",
       "      <td>2049.620117</td>\n",
       "      <td>4.306490e+09</td>\n",
       "      <td>2049.620117</td>\n",
       "    </tr>\n",
       "    <tr>\n",
       "      <th>3</th>\n",
       "      <td>2015-12-02</td>\n",
       "      <td>2101.709961</td>\n",
       "      <td>2104.270020</td>\n",
       "      <td>2077.110107</td>\n",
       "      <td>2079.510010</td>\n",
       "      <td>3.950640e+09</td>\n",
       "      <td>2079.510010</td>\n",
       "    </tr>\n",
       "    <tr>\n",
       "      <th>4</th>\n",
       "      <td>2015-12-01</td>\n",
       "      <td>2082.929932</td>\n",
       "      <td>2103.370117</td>\n",
       "      <td>2082.929932</td>\n",
       "      <td>2102.629883</td>\n",
       "      <td>3.712120e+09</td>\n",
       "      <td>2102.629883</td>\n",
       "    </tr>\n",
       "  </tbody>\n",
       "</table>\n",
       "</div>"
      ],
      "text/plain": [
       "         Date         Open         High          Low        Close  \\\n",
       "0  2015-12-07  2090.419922  2090.419922  2066.780029  2077.070068   \n",
       "1  2015-12-04  2051.239990  2093.840088  2051.239990  2091.689941   \n",
       "2  2015-12-03  2080.709961  2085.000000  2042.349976  2049.620117   \n",
       "3  2015-12-02  2101.709961  2104.270020  2077.110107  2079.510010   \n",
       "4  2015-12-01  2082.929932  2103.370117  2082.929932  2102.629883   \n",
       "\n",
       "         Volume    Adj Close  \n",
       "0  4.043820e+09  2077.070068  \n",
       "1  4.214910e+09  2091.689941  \n",
       "2  4.306490e+09  2049.620117  \n",
       "3  3.950640e+09  2079.510010  \n",
       "4  3.712120e+09  2102.629883  "
      ]
     },
     "execution_count": 2,
     "metadata": {},
     "output_type": "execute_result"
    }
   ],
   "source": [
    "stock_df = pd.read_csv(\"sphist.csv\")\n",
    "stock_df.head()"
   ]
  },
  {
   "cell_type": "code",
   "execution_count": 3,
   "metadata": {
    "scrolled": false
   },
   "outputs": [
    {
     "name": "stdout",
     "output_type": "stream",
     "text": [
      "<class 'pandas.core.frame.DataFrame'>\n",
      "RangeIndex: 16590 entries, 0 to 16589\n",
      "Data columns (total 7 columns):\n",
      "Date         16590 non-null object\n",
      "Open         16590 non-null float64\n",
      "High         16590 non-null float64\n",
      "Low          16590 non-null float64\n",
      "Close        16590 non-null float64\n",
      "Volume       16590 non-null float64\n",
      "Adj Close    16590 non-null float64\n",
      "dtypes: float64(6), object(1)\n",
      "memory usage: 907.3+ KB\n"
     ]
    }
   ],
   "source": [
    "stock_df.info()"
   ]
  },
  {
   "cell_type": "code",
   "execution_count": 4,
   "metadata": {
    "scrolled": true
   },
   "outputs": [
    {
     "name": "stdout",
     "output_type": "stream",
     "text": [
      "<class 'pandas.core.frame.DataFrame'>\n",
      "RangeIndex: 16590 entries, 0 to 16589\n",
      "Data columns (total 7 columns):\n",
      "Date         16590 non-null datetime64[ns]\n",
      "Open         16590 non-null float64\n",
      "High         16590 non-null float64\n",
      "Low          16590 non-null float64\n",
      "Close        16590 non-null float64\n",
      "Volume       16590 non-null float64\n",
      "Adj Close    16590 non-null float64\n",
      "dtypes: datetime64[ns](1), float64(6)\n",
      "memory usage: 907.3 KB\n"
     ]
    }
   ],
   "source": [
    "### converting date column into pd.to_datetime this will allow to date comparisons with the column\n",
    "\n",
    "stock_df['Date'] =  pd.to_datetime(stock_df['Date'])\n",
    "stock_df.info()"
   ]
  },
  {
   "cell_type": "code",
   "execution_count": 5,
   "metadata": {},
   "outputs": [
    {
     "data": {
      "text/html": [
       "<div>\n",
       "<style scoped>\n",
       "    .dataframe tbody tr th:only-of-type {\n",
       "        vertical-align: middle;\n",
       "    }\n",
       "\n",
       "    .dataframe tbody tr th {\n",
       "        vertical-align: top;\n",
       "    }\n",
       "\n",
       "    .dataframe thead th {\n",
       "        text-align: right;\n",
       "    }\n",
       "</style>\n",
       "<table border=\"1\" class=\"dataframe\">\n",
       "  <thead>\n",
       "    <tr style=\"text-align: right;\">\n",
       "      <th></th>\n",
       "      <th>Date</th>\n",
       "      <th>Open</th>\n",
       "      <th>High</th>\n",
       "      <th>Low</th>\n",
       "      <th>Close</th>\n",
       "      <th>Volume</th>\n",
       "      <th>Adj Close</th>\n",
       "    </tr>\n",
       "  </thead>\n",
       "  <tbody>\n",
       "    <tr>\n",
       "      <th>0</th>\n",
       "      <td>1950-01-03</td>\n",
       "      <td>16.66</td>\n",
       "      <td>16.66</td>\n",
       "      <td>16.66</td>\n",
       "      <td>16.66</td>\n",
       "      <td>1260000.0</td>\n",
       "      <td>16.66</td>\n",
       "    </tr>\n",
       "    <tr>\n",
       "      <th>1</th>\n",
       "      <td>1950-01-04</td>\n",
       "      <td>16.85</td>\n",
       "      <td>16.85</td>\n",
       "      <td>16.85</td>\n",
       "      <td>16.85</td>\n",
       "      <td>1890000.0</td>\n",
       "      <td>16.85</td>\n",
       "    </tr>\n",
       "    <tr>\n",
       "      <th>2</th>\n",
       "      <td>1950-01-05</td>\n",
       "      <td>16.93</td>\n",
       "      <td>16.93</td>\n",
       "      <td>16.93</td>\n",
       "      <td>16.93</td>\n",
       "      <td>2550000.0</td>\n",
       "      <td>16.93</td>\n",
       "    </tr>\n",
       "    <tr>\n",
       "      <th>3</th>\n",
       "      <td>1950-01-06</td>\n",
       "      <td>16.98</td>\n",
       "      <td>16.98</td>\n",
       "      <td>16.98</td>\n",
       "      <td>16.98</td>\n",
       "      <td>2010000.0</td>\n",
       "      <td>16.98</td>\n",
       "    </tr>\n",
       "    <tr>\n",
       "      <th>4</th>\n",
       "      <td>1950-01-09</td>\n",
       "      <td>17.08</td>\n",
       "      <td>17.08</td>\n",
       "      <td>17.08</td>\n",
       "      <td>17.08</td>\n",
       "      <td>2520000.0</td>\n",
       "      <td>17.08</td>\n",
       "    </tr>\n",
       "  </tbody>\n",
       "</table>\n",
       "</div>"
      ],
      "text/plain": [
       "        Date   Open   High    Low  Close     Volume  Adj Close\n",
       "0 1950-01-03  16.66  16.66  16.66  16.66  1260000.0      16.66\n",
       "1 1950-01-04  16.85  16.85  16.85  16.85  1890000.0      16.85\n",
       "2 1950-01-05  16.93  16.93  16.93  16.93  2550000.0      16.93\n",
       "3 1950-01-06  16.98  16.98  16.98  16.98  2010000.0      16.98\n",
       "4 1950-01-09  17.08  17.08  17.08  17.08  2520000.0      17.08"
      ]
     },
     "execution_count": 5,
     "metadata": {},
     "output_type": "execute_result"
    }
   ],
   "source": [
    "## sort the df on the Date column\n",
    "stock_df.sort_values(\"Date\", ascending=True, inplace=True)\n",
    "stock_df.reset_index(drop=True, inplace=True)\n",
    "stock_df.head()"
   ]
  },
  {
   "cell_type": "markdown",
   "metadata": {},
   "source": [
    "#### Generating Indicators\n",
    "\n",
    "Generating indicators makes our model accurate. we can create a new column that contains average price of the last 10 trades and make multiple rows into one. For doing average calculation not going to include the current price, by this teaching the model to predict the current price from the historical prices.\n",
    "\n",
    "- The average price from the past 5 days.\n",
    "- The average price for the past 30 days.\n",
    "- The average price for the past 365 days.\n",
    "\n",
    "The \"price\" means \"close\" column and the days here is number of trading days.\n",
    "\n",
    "Calculating the average price by using pandas tool \"__window__\". Set the window equal to the number of trading days in the past to compute the indicators"
   ]
  },
  {
   "cell_type": "code",
   "execution_count": 6,
   "metadata": {
    "scrolled": true
   },
   "outputs": [],
   "source": [
    "### Generating Indicators\n",
    "stock_df['Av_days_5'] = stock_df[\"Close\"].rolling(5).mean().shift(1)\n",
    "stock_df['Av_days_30'] = stock_df['Close'].rolling(30).mean().shift(1)\n",
    "stock_df['Av_days_365'] = stock_df['Close'].rolling(365).mean().shift(1)"
   ]
  },
  {
   "cell_type": "markdown",
   "metadata": {},
   "source": [
    "The standard deviation of the price over the past 5 days.\n",
    "The standard deviation of the price over the past 365 days."
   ]
  },
  {
   "cell_type": "code",
   "execution_count": 7,
   "metadata": {},
   "outputs": [],
   "source": [
    "stock_df[\"std_5\"] = stock_df[\"Close\"].rolling(5).std().shift(1)\n",
    "stock_df[\"std365\"] = stock_df[\"Close\"].rolling(5).std().shift(1)"
   ]
  },
  {
   "cell_type": "markdown",
   "metadata": {},
   "source": [
    "- The ratio between the average price for the past 5 days, and the average price for the past 365 days.\n",
    "- The ratio between the standard deviation for the past 5 days, and the standard deviation for the past 365 days."
   ]
  },
  {
   "cell_type": "code",
   "execution_count": 8,
   "metadata": {},
   "outputs": [],
   "source": [
    "stock_df[\"avg_ratio_5_365\"] = stock_df['Av_days_5'] / stock_df['Av_days_365']\n",
    "stock_df[\"ratio_std5_std365\"]= stock_df[\"std_5\"] / stock_df[\"std365\"] "
   ]
  },
  {
   "cell_type": "code",
   "execution_count": 9,
   "metadata": {
    "scrolled": true
   },
   "outputs": [
    {
     "data": {
      "text/html": [
       "<div>\n",
       "<style scoped>\n",
       "    .dataframe tbody tr th:only-of-type {\n",
       "        vertical-align: middle;\n",
       "    }\n",
       "\n",
       "    .dataframe tbody tr th {\n",
       "        vertical-align: top;\n",
       "    }\n",
       "\n",
       "    .dataframe thead th {\n",
       "        text-align: right;\n",
       "    }\n",
       "</style>\n",
       "<table border=\"1\" class=\"dataframe\">\n",
       "  <thead>\n",
       "    <tr style=\"text-align: right;\">\n",
       "      <th></th>\n",
       "      <th>Date</th>\n",
       "      <th>Open</th>\n",
       "      <th>High</th>\n",
       "      <th>Low</th>\n",
       "      <th>Close</th>\n",
       "      <th>Volume</th>\n",
       "      <th>Adj Close</th>\n",
       "      <th>Av_days_5</th>\n",
       "      <th>Av_days_30</th>\n",
       "      <th>Av_days_365</th>\n",
       "      <th>std_5</th>\n",
       "      <th>std365</th>\n",
       "      <th>avg_ratio_5_365</th>\n",
       "      <th>ratio_std5_std365</th>\n",
       "    </tr>\n",
       "  </thead>\n",
       "  <tbody>\n",
       "    <tr>\n",
       "      <th>0</th>\n",
       "      <td>1950-01-03</td>\n",
       "      <td>16.66</td>\n",
       "      <td>16.66</td>\n",
       "      <td>16.66</td>\n",
       "      <td>16.66</td>\n",
       "      <td>1260000.0</td>\n",
       "      <td>16.66</td>\n",
       "      <td>NaN</td>\n",
       "      <td>NaN</td>\n",
       "      <td>NaN</td>\n",
       "      <td>NaN</td>\n",
       "      <td>NaN</td>\n",
       "      <td>NaN</td>\n",
       "      <td>NaN</td>\n",
       "    </tr>\n",
       "    <tr>\n",
       "      <th>1</th>\n",
       "      <td>1950-01-04</td>\n",
       "      <td>16.85</td>\n",
       "      <td>16.85</td>\n",
       "      <td>16.85</td>\n",
       "      <td>16.85</td>\n",
       "      <td>1890000.0</td>\n",
       "      <td>16.85</td>\n",
       "      <td>NaN</td>\n",
       "      <td>NaN</td>\n",
       "      <td>NaN</td>\n",
       "      <td>NaN</td>\n",
       "      <td>NaN</td>\n",
       "      <td>NaN</td>\n",
       "      <td>NaN</td>\n",
       "    </tr>\n",
       "    <tr>\n",
       "      <th>2</th>\n",
       "      <td>1950-01-05</td>\n",
       "      <td>16.93</td>\n",
       "      <td>16.93</td>\n",
       "      <td>16.93</td>\n",
       "      <td>16.93</td>\n",
       "      <td>2550000.0</td>\n",
       "      <td>16.93</td>\n",
       "      <td>NaN</td>\n",
       "      <td>NaN</td>\n",
       "      <td>NaN</td>\n",
       "      <td>NaN</td>\n",
       "      <td>NaN</td>\n",
       "      <td>NaN</td>\n",
       "      <td>NaN</td>\n",
       "    </tr>\n",
       "    <tr>\n",
       "      <th>3</th>\n",
       "      <td>1950-01-06</td>\n",
       "      <td>16.98</td>\n",
       "      <td>16.98</td>\n",
       "      <td>16.98</td>\n",
       "      <td>16.98</td>\n",
       "      <td>2010000.0</td>\n",
       "      <td>16.98</td>\n",
       "      <td>NaN</td>\n",
       "      <td>NaN</td>\n",
       "      <td>NaN</td>\n",
       "      <td>NaN</td>\n",
       "      <td>NaN</td>\n",
       "      <td>NaN</td>\n",
       "      <td>NaN</td>\n",
       "    </tr>\n",
       "    <tr>\n",
       "      <th>4</th>\n",
       "      <td>1950-01-09</td>\n",
       "      <td>17.08</td>\n",
       "      <td>17.08</td>\n",
       "      <td>17.08</td>\n",
       "      <td>17.08</td>\n",
       "      <td>2520000.0</td>\n",
       "      <td>17.08</td>\n",
       "      <td>NaN</td>\n",
       "      <td>NaN</td>\n",
       "      <td>NaN</td>\n",
       "      <td>NaN</td>\n",
       "      <td>NaN</td>\n",
       "      <td>NaN</td>\n",
       "      <td>NaN</td>\n",
       "    </tr>\n",
       "  </tbody>\n",
       "</table>\n",
       "</div>"
      ],
      "text/plain": [
       "        Date   Open   High    Low  Close     Volume  Adj Close  Av_days_5  \\\n",
       "0 1950-01-03  16.66  16.66  16.66  16.66  1260000.0      16.66        NaN   \n",
       "1 1950-01-04  16.85  16.85  16.85  16.85  1890000.0      16.85        NaN   \n",
       "2 1950-01-05  16.93  16.93  16.93  16.93  2550000.0      16.93        NaN   \n",
       "3 1950-01-06  16.98  16.98  16.98  16.98  2010000.0      16.98        NaN   \n",
       "4 1950-01-09  17.08  17.08  17.08  17.08  2520000.0      17.08        NaN   \n",
       "\n",
       "   Av_days_30  Av_days_365  std_5  std365  avg_ratio_5_365  ratio_std5_std365  \n",
       "0         NaN          NaN    NaN     NaN              NaN                NaN  \n",
       "1         NaN          NaN    NaN     NaN              NaN                NaN  \n",
       "2         NaN          NaN    NaN     NaN              NaN                NaN  \n",
       "3         NaN          NaN    NaN     NaN              NaN                NaN  \n",
       "4         NaN          NaN    NaN     NaN              NaN                NaN  "
      ]
     },
     "execution_count": 9,
     "metadata": {},
     "output_type": "execute_result"
    }
   ],
   "source": [
    "stock_df.head()"
   ]
  },
  {
   "cell_type": "code",
   "execution_count": 10,
   "metadata": {
    "scrolled": true
   },
   "outputs": [
    {
     "data": {
      "text/plain": [
       "Date                 0\n",
       "Open                 0\n",
       "High                 0\n",
       "Low                  0\n",
       "Close                0\n",
       "Volume               0\n",
       "Adj Close            0\n",
       "Av_days_5            0\n",
       "Av_days_30           0\n",
       "Av_days_365          0\n",
       "std_5                0\n",
       "std365               0\n",
       "avg_ratio_5_365      0\n",
       "ratio_std5_std365    0\n",
       "dtype: int64"
      ]
     },
     "execution_count": 10,
     "metadata": {},
     "output_type": "execute_result"
    }
   ],
   "source": [
    "stock_df.dropna(axis=0, inplace=True)\n",
    "stock_df.isnull().sum()"
   ]
  },
  {
   "cell_type": "code",
   "execution_count": 11,
   "metadata": {
    "scrolled": true
   },
   "outputs": [
    {
     "data": {
      "text/html": [
       "<div>\n",
       "<style scoped>\n",
       "    .dataframe tbody tr th:only-of-type {\n",
       "        vertical-align: middle;\n",
       "    }\n",
       "\n",
       "    .dataframe tbody tr th {\n",
       "        vertical-align: top;\n",
       "    }\n",
       "\n",
       "    .dataframe thead th {\n",
       "        text-align: right;\n",
       "    }\n",
       "</style>\n",
       "<table border=\"1\" class=\"dataframe\">\n",
       "  <thead>\n",
       "    <tr style=\"text-align: right;\">\n",
       "      <th></th>\n",
       "      <th>Date</th>\n",
       "      <th>Open</th>\n",
       "      <th>High</th>\n",
       "      <th>Low</th>\n",
       "      <th>Close</th>\n",
       "      <th>Volume</th>\n",
       "      <th>Adj Close</th>\n",
       "      <th>Av_days_5</th>\n",
       "      <th>Av_days_30</th>\n",
       "      <th>Av_days_365</th>\n",
       "      <th>std_5</th>\n",
       "      <th>std365</th>\n",
       "      <th>avg_ratio_5_365</th>\n",
       "      <th>ratio_std5_std365</th>\n",
       "    </tr>\n",
       "  </thead>\n",
       "  <tbody>\n",
       "    <tr>\n",
       "      <th>365</th>\n",
       "      <td>1951-06-19</td>\n",
       "      <td>22.020000</td>\n",
       "      <td>22.020000</td>\n",
       "      <td>22.020000</td>\n",
       "      <td>22.020000</td>\n",
       "      <td>1100000.0</td>\n",
       "      <td>22.020000</td>\n",
       "      <td>21.800</td>\n",
       "      <td>21.703333</td>\n",
       "      <td>19.447726</td>\n",
       "      <td>0.256223</td>\n",
       "      <td>0.256223</td>\n",
       "      <td>1.120954</td>\n",
       "      <td>1.0</td>\n",
       "    </tr>\n",
       "    <tr>\n",
       "      <th>366</th>\n",
       "      <td>1951-06-20</td>\n",
       "      <td>21.910000</td>\n",
       "      <td>21.910000</td>\n",
       "      <td>21.910000</td>\n",
       "      <td>21.910000</td>\n",
       "      <td>1120000.0</td>\n",
       "      <td>21.910000</td>\n",
       "      <td>21.900</td>\n",
       "      <td>21.683000</td>\n",
       "      <td>19.462411</td>\n",
       "      <td>0.213659</td>\n",
       "      <td>0.213659</td>\n",
       "      <td>1.125246</td>\n",
       "      <td>1.0</td>\n",
       "    </tr>\n",
       "    <tr>\n",
       "      <th>367</th>\n",
       "      <td>1951-06-21</td>\n",
       "      <td>21.780001</td>\n",
       "      <td>21.780001</td>\n",
       "      <td>21.780001</td>\n",
       "      <td>21.780001</td>\n",
       "      <td>1100000.0</td>\n",
       "      <td>21.780001</td>\n",
       "      <td>21.972</td>\n",
       "      <td>21.659667</td>\n",
       "      <td>19.476274</td>\n",
       "      <td>0.092574</td>\n",
       "      <td>0.092574</td>\n",
       "      <td>1.128142</td>\n",
       "      <td>1.0</td>\n",
       "    </tr>\n",
       "    <tr>\n",
       "      <th>368</th>\n",
       "      <td>1951-06-22</td>\n",
       "      <td>21.549999</td>\n",
       "      <td>21.549999</td>\n",
       "      <td>21.549999</td>\n",
       "      <td>21.549999</td>\n",
       "      <td>1340000.0</td>\n",
       "      <td>21.549999</td>\n",
       "      <td>21.960</td>\n",
       "      <td>21.631000</td>\n",
       "      <td>19.489562</td>\n",
       "      <td>0.115108</td>\n",
       "      <td>0.115108</td>\n",
       "      <td>1.126757</td>\n",
       "      <td>1.0</td>\n",
       "    </tr>\n",
       "    <tr>\n",
       "      <th>369</th>\n",
       "      <td>1951-06-25</td>\n",
       "      <td>21.290001</td>\n",
       "      <td>21.290001</td>\n",
       "      <td>21.290001</td>\n",
       "      <td>21.290001</td>\n",
       "      <td>2440000.0</td>\n",
       "      <td>21.290001</td>\n",
       "      <td>21.862</td>\n",
       "      <td>21.599000</td>\n",
       "      <td>19.502082</td>\n",
       "      <td>0.204132</td>\n",
       "      <td>0.204132</td>\n",
       "      <td>1.121008</td>\n",
       "      <td>1.0</td>\n",
       "    </tr>\n",
       "  </tbody>\n",
       "</table>\n",
       "</div>"
      ],
      "text/plain": [
       "          Date       Open       High        Low      Close     Volume  \\\n",
       "365 1951-06-19  22.020000  22.020000  22.020000  22.020000  1100000.0   \n",
       "366 1951-06-20  21.910000  21.910000  21.910000  21.910000  1120000.0   \n",
       "367 1951-06-21  21.780001  21.780001  21.780001  21.780001  1100000.0   \n",
       "368 1951-06-22  21.549999  21.549999  21.549999  21.549999  1340000.0   \n",
       "369 1951-06-25  21.290001  21.290001  21.290001  21.290001  2440000.0   \n",
       "\n",
       "     Adj Close  Av_days_5  Av_days_30  Av_days_365     std_5    std365  \\\n",
       "365  22.020000     21.800   21.703333    19.447726  0.256223  0.256223   \n",
       "366  21.910000     21.900   21.683000    19.462411  0.213659  0.213659   \n",
       "367  21.780001     21.972   21.659667    19.476274  0.092574  0.092574   \n",
       "368  21.549999     21.960   21.631000    19.489562  0.115108  0.115108   \n",
       "369  21.290001     21.862   21.599000    19.502082  0.204132  0.204132   \n",
       "\n",
       "     avg_ratio_5_365  ratio_std5_std365  \n",
       "365         1.120954                1.0  \n",
       "366         1.125246                1.0  \n",
       "367         1.128142                1.0  \n",
       "368         1.126757                1.0  \n",
       "369         1.121008                1.0  "
      ]
     },
     "execution_count": 11,
     "metadata": {},
     "output_type": "execute_result"
    }
   ],
   "source": [
    "stock_df.head()"
   ]
  },
  {
   "cell_type": "code",
   "execution_count": 12,
   "metadata": {},
   "outputs": [],
   "source": [
    "##Create train and test dataframes\n",
    "train_df = stock_df[stock_df['Date'] < datetime(year=2013, month=1,day=1)]\n",
    "test_df = stock_df[stock_df['Date']>= datetime(year=2013, month=1,day=1)]"
   ]
  },
  {
   "cell_type": "code",
   "execution_count": 13,
   "metadata": {
    "scrolled": true
   },
   "outputs": [
    {
     "data": {
      "text/plain": [
       "<matplotlib.axes._subplots.AxesSubplot at 0x1d30114b710>"
      ]
     },
     "execution_count": 13,
     "metadata": {},
     "output_type": "execute_result"
    },
    {
     "data": {
      "image/png": "[encoded data removed]",
      "text/plain": [
       "<Figure size 432x288 with 2 Axes>"
      ]
     },
     "metadata": {
      "needs_background": "light"
     },
     "output_type": "display_data"
    }
   ],
   "source": [
    "strong_corr= train_df.corr()\n",
    "corrmat= strong_corr['Close'].abs().sort_values()\n",
    "str_cormat = corrmat[corrmat>0.4]\n",
    "strong_corr = strong_corr[str_cormat.index]\n",
    "sns.heatmap(strong_corr)"
   ]
  },
  {
   "cell_type": "markdown",
   "metadata": {},
   "source": [
    "To avoid data leakage leave out all of the original columns Close, High, Low, Open, Volume, Adj Close, Date. When training the model these all contain knowledge of the future that you don't want to feed the model."
   ]
  },
  {
   "cell_type": "code",
   "execution_count": 14,
   "metadata": {
    "scrolled": false
   },
   "outputs": [
    {
     "name": "stdout",
     "output_type": "stream",
     "text": [
      "MAE:  16.12909806630855\n",
      "MSE:  492.8198805123851\n"
     ]
    }
   ],
   "source": [
    "lr=LinearRegression()\n",
    "features = ['Av_days_5','Av_days_30','Av_days_365','std_5','std365','avg_ratio_5_365']\n",
    "target= 'Close'\n",
    "lr.fit(train_df[features], train_df[target])\n",
    "predictions= lr.predict(test_df[features])\n",
    "## Calculate error metrics\n",
    "mse= mean_squared_error(predictions, test_df[target])\n",
    "mae = mean_absolute_error(test_df[target], predictions)\n",
    "print(\"MAE: \", mae)\n",
    "print(\"MSE: \", mse)"
   ]
  },
  {
   "cell_type": "markdown",
   "metadata": {},
   "source": [
    "#### Improving errors\n",
    "\n",
    "We can improve the model significantly by adding some indicators like\n",
    "\n",
    "- The average volume over the past five days.\n",
    "- The average volume over the past year.\n",
    "- The ratio between the average volume for the past five days\n"
   ]
  },
  {
   "cell_type": "code",
   "execution_count": 15,
   "metadata": {
    "scrolled": true
   },
   "outputs": [
    {
     "data": {
      "text/html": [
       "<div>\n",
       "<style scoped>\n",
       "    .dataframe tbody tr th:only-of-type {\n",
       "        vertical-align: middle;\n",
       "    }\n",
       "\n",
       "    .dataframe tbody tr th {\n",
       "        vertical-align: top;\n",
       "    }\n",
       "\n",
       "    .dataframe thead th {\n",
       "        text-align: right;\n",
       "    }\n",
       "</style>\n",
       "<table border=\"1\" class=\"dataframe\">\n",
       "  <thead>\n",
       "    <tr style=\"text-align: right;\">\n",
       "      <th></th>\n",
       "      <th>Date</th>\n",
       "      <th>Open</th>\n",
       "      <th>High</th>\n",
       "      <th>Low</th>\n",
       "      <th>Close</th>\n",
       "      <th>Volume</th>\n",
       "      <th>Adj Close</th>\n",
       "      <th>Av_days_5</th>\n",
       "      <th>Av_days_30</th>\n",
       "      <th>Av_days_365</th>\n",
       "      <th>std_5</th>\n",
       "      <th>std365</th>\n",
       "      <th>avg_ratio_5_365</th>\n",
       "      <th>ratio_std5_std365</th>\n",
       "      <th>ave_volume_5d</th>\n",
       "      <th>ave_5yrs</th>\n",
       "      <th>ave_volume_5yr</th>\n",
       "    </tr>\n",
       "  </thead>\n",
       "  <tbody>\n",
       "    <tr>\n",
       "      <th>365</th>\n",
       "      <td>1951-06-19</td>\n",
       "      <td>22.020000</td>\n",
       "      <td>22.020000</td>\n",
       "      <td>22.020000</td>\n",
       "      <td>22.020000</td>\n",
       "      <td>1100000.0</td>\n",
       "      <td>22.020000</td>\n",
       "      <td>21.800</td>\n",
       "      <td>21.703333</td>\n",
       "      <td>19.447726</td>\n",
       "      <td>0.256223</td>\n",
       "      <td>0.256223</td>\n",
       "      <td>1.120954</td>\n",
       "      <td>1.0</td>\n",
       "      <td>NaN</td>\n",
       "      <td>NaN</td>\n",
       "      <td>NaN</td>\n",
       "    </tr>\n",
       "    <tr>\n",
       "      <th>366</th>\n",
       "      <td>1951-06-20</td>\n",
       "      <td>21.910000</td>\n",
       "      <td>21.910000</td>\n",
       "      <td>21.910000</td>\n",
       "      <td>21.910000</td>\n",
       "      <td>1120000.0</td>\n",
       "      <td>21.910000</td>\n",
       "      <td>21.900</td>\n",
       "      <td>21.683000</td>\n",
       "      <td>19.462411</td>\n",
       "      <td>0.213659</td>\n",
       "      <td>0.213659</td>\n",
       "      <td>1.125246</td>\n",
       "      <td>1.0</td>\n",
       "      <td>NaN</td>\n",
       "      <td>NaN</td>\n",
       "      <td>NaN</td>\n",
       "    </tr>\n",
       "    <tr>\n",
       "      <th>367</th>\n",
       "      <td>1951-06-21</td>\n",
       "      <td>21.780001</td>\n",
       "      <td>21.780001</td>\n",
       "      <td>21.780001</td>\n",
       "      <td>21.780001</td>\n",
       "      <td>1100000.0</td>\n",
       "      <td>21.780001</td>\n",
       "      <td>21.972</td>\n",
       "      <td>21.659667</td>\n",
       "      <td>19.476274</td>\n",
       "      <td>0.092574</td>\n",
       "      <td>0.092574</td>\n",
       "      <td>1.128142</td>\n",
       "      <td>1.0</td>\n",
       "      <td>NaN</td>\n",
       "      <td>NaN</td>\n",
       "      <td>NaN</td>\n",
       "    </tr>\n",
       "    <tr>\n",
       "      <th>368</th>\n",
       "      <td>1951-06-22</td>\n",
       "      <td>21.549999</td>\n",
       "      <td>21.549999</td>\n",
       "      <td>21.549999</td>\n",
       "      <td>21.549999</td>\n",
       "      <td>1340000.0</td>\n",
       "      <td>21.549999</td>\n",
       "      <td>21.960</td>\n",
       "      <td>21.631000</td>\n",
       "      <td>19.489562</td>\n",
       "      <td>0.115108</td>\n",
       "      <td>0.115108</td>\n",
       "      <td>1.126757</td>\n",
       "      <td>1.0</td>\n",
       "      <td>NaN</td>\n",
       "      <td>NaN</td>\n",
       "      <td>NaN</td>\n",
       "    </tr>\n",
       "    <tr>\n",
       "      <th>369</th>\n",
       "      <td>1951-06-25</td>\n",
       "      <td>21.290001</td>\n",
       "      <td>21.290001</td>\n",
       "      <td>21.290001</td>\n",
       "      <td>21.290001</td>\n",
       "      <td>2440000.0</td>\n",
       "      <td>21.290001</td>\n",
       "      <td>21.862</td>\n",
       "      <td>21.599000</td>\n",
       "      <td>19.502082</td>\n",
       "      <td>0.204132</td>\n",
       "      <td>0.204132</td>\n",
       "      <td>1.121008</td>\n",
       "      <td>1.0</td>\n",
       "      <td>NaN</td>\n",
       "      <td>NaN</td>\n",
       "      <td>NaN</td>\n",
       "    </tr>\n",
       "  </tbody>\n",
       "</table>\n",
       "</div>"
      ],
      "text/plain": [
       "          Date       Open       High        Low      Close     Volume  \\\n",
       "365 1951-06-19  22.020000  22.020000  22.020000  22.020000  1100000.0   \n",
       "366 1951-06-20  21.910000  21.910000  21.910000  21.910000  1120000.0   \n",
       "367 1951-06-21  21.780001  21.780001  21.780001  21.780001  1100000.0   \n",
       "368 1951-06-22  21.549999  21.549999  21.549999  21.549999  1340000.0   \n",
       "369 1951-06-25  21.290001  21.290001  21.290001  21.290001  2440000.0   \n",
       "\n",
       "     Adj Close  Av_days_5  Av_days_30  Av_days_365     std_5    std365  \\\n",
       "365  22.020000     21.800   21.703333    19.447726  0.256223  0.256223   \n",
       "366  21.910000     21.900   21.683000    19.462411  0.213659  0.213659   \n",
       "367  21.780001     21.972   21.659667    19.476274  0.092574  0.092574   \n",
       "368  21.549999     21.960   21.631000    19.489562  0.115108  0.115108   \n",
       "369  21.290001     21.862   21.599000    19.502082  0.204132  0.204132   \n",
       "\n",
       "     avg_ratio_5_365  ratio_std5_std365  ave_volume_5d  ave_5yrs  \\\n",
       "365         1.120954                1.0            NaN       NaN   \n",
       "366         1.125246                1.0            NaN       NaN   \n",
       "367         1.128142                1.0            NaN       NaN   \n",
       "368         1.126757                1.0            NaN       NaN   \n",
       "369         1.121008                1.0            NaN       NaN   \n",
       "\n",
       "     ave_volume_5yr  \n",
       "365             NaN  \n",
       "366             NaN  \n",
       "367             NaN  \n",
       "368             NaN  \n",
       "369             NaN  "
      ]
     },
     "execution_count": 15,
     "metadata": {},
     "output_type": "execute_result"
    }
   ],
   "source": [
    "stock_df[\"ave_volume_5d\"] =  stock_df['Av_days_5'].rolling(5).mean().shift(1)\n",
    "stock_df[\"ave_5yrs\"]= stock_df['Close'].rolling(5).mean().shift(1)\n",
    "stock_df[\"ave_volume_5yr\"] = stock_df[\"ave_5yrs\"].rolling(5).mean().shift(1)\n",
    "stock_df.head()"
   ]
  },
  {
   "cell_type": "markdown",
   "metadata": {},
   "source": [
    "- The standard deviation of the average volume over the past five days.\n",
    "- The standard deviation of the average volume over the past year."
   ]
  },
  {
   "cell_type": "code",
   "execution_count": 19,
   "metadata": {},
   "outputs": [],
   "source": [
    "stock_df['std_5days_vol'] = stock_df[\"ave_volume_5d\"].rolling(5).std().shift(1)\n",
    "stock_df['std_5years_vol'] = stock_df[\"ave_volume_5yr\"].rolling(5).std().shift(1)"
   ]
  },
  {
   "cell_type": "markdown",
   "metadata": {},
   "source": [
    "- The ratio between the average volume for the past five days, and the average volume for the past year."
   ]
  },
  {
   "cell_type": "code",
   "execution_count": 20,
   "metadata": {},
   "outputs": [],
   "source": [
    "stock_df['ratio_ave_vol'] = stock_df['ave_volume_5d'] / stock_df['ave_volume_5yr']\n"
   ]
  },
  {
   "cell_type": "markdown",
   "metadata": {},
   "source": [
    "The ratio between the standard deviation of the average volume for the past five days, and the standard deviation of the average volume for the past year."
   ]
  },
  {
   "cell_type": "code",
   "execution_count": 21,
   "metadata": {
    "scrolled": true
   },
   "outputs": [],
   "source": [
    "stock_df['ratio_std_vol'] = stock_df['std_5days_vol'] / stock_df['std_5years_vol']"
   ]
  },
  {
   "cell_type": "code",
   "execution_count": 22,
   "metadata": {
    "scrolled": true
   },
   "outputs": [
    {
     "data": {
      "text/plain": [
       "Date                 0\n",
       "Open                 0\n",
       "High                 0\n",
       "Low                  0\n",
       "Close                0\n",
       "Volume               0\n",
       "Adj Close            0\n",
       "Av_days_5            0\n",
       "Av_days_30           0\n",
       "Av_days_365          0\n",
       "std_5                0\n",
       "std365               0\n",
       "avg_ratio_5_365      0\n",
       "ratio_std5_std365    0\n",
       "ave_volume_5d        0\n",
       "ave_5yrs             0\n",
       "ave_volume_5yr       0\n",
       "std_5days_vol        0\n",
       "std_5years_vol       0\n",
       "ratio_ave_vol        0\n",
       "ratio_std_vol        0\n",
       "dtype: int64"
      ]
     },
     "execution_count": 22,
     "metadata": {},
     "output_type": "execute_result"
    }
   ],
   "source": [
    "stock_df.dropna(axis=0, inplace=True)\n",
    "stock_df.isnull().sum()"
   ]
  },
  {
   "cell_type": "code",
   "execution_count": 23,
   "metadata": {
    "scrolled": false
   },
   "outputs": [
    {
     "name": "stderr",
     "output_type": "stream",
     "text": [
      "C:\\Users\\Akshaya_Aadithya\\Anaconda3\\lib\\site-packages\\ipykernel_launcher.py:3: UserWarning: Boolean Series key will be reindexed to match DataFrame index.\n",
      "  This is separate from the ipykernel package so we can avoid doing imports until\n"
     ]
    },
    {
     "data": {
      "text/plain": [
       "<matplotlib.axes._subplots.AxesSubplot at 0x1d301a80e48>"
      ]
     },
     "execution_count": 23,
     "metadata": {},
     "output_type": "execute_result"
    },
    {
     "data": {
      "image/png": "[encoded data removed]",
      "text/plain": [
       "<Figure size 432x288 with 2 Axes>"
      ]
     },
     "metadata": {
      "needs_background": "light"
     },
     "output_type": "display_data"
    }
   ],
   "source": [
    "corr= stock_df.corr()\n",
    "coorm = corr['Close'].abs().sort_values()\n",
    "str_cormat = corr[coorm >0.4]\n",
    "corr = corr[str_cormat.index]\n",
    "sns.heatmap(corr)\n"
   ]
  },
  {
   "cell_type": "code",
   "execution_count": null,
   "metadata": {
    "scrolled": true
   },
   "outputs": [],
   "source": [
    "stock_df.head()"
   ]
  },
  {
   "cell_type": "code",
   "execution_count": 24,
   "metadata": {},
   "outputs": [],
   "source": [
    "train = stock_df[stock_df['Date'] < datetime(year=2013, month=1, day=1)]\n",
    "test = stock_df[stock_df['Date']>= datetime(year=2013, month=1,day=1)]\n"
   ]
  },
  {
   "cell_type": "code",
   "execution_count": 25,
   "metadata": {},
   "outputs": [
    {
     "name": "stdout",
     "output_type": "stream",
     "text": [
      "MAE:  16.12909806630855\n",
      "MSE:  443.264999365545\n"
     ]
    }
   ],
   "source": [
    "lr = LinearRegression()\n",
    "features = ['Av_days_5','Av_days_30','Av_days_365','std_5','std365','avg_ratio_5_365','ave_volume_5d','ave_volume_5yr','std_5days_vol','std_5years_vol','ratio_ave_vol']\n",
    "target =['Close']\n",
    "lr.fit(train[features], train[target])\n",
    "predict = lr.predict(test[features])\n",
    "\n",
    "## calculating mse\n",
    "\n",
    "mse = mean_squared_error(test[target],predict)\n",
    "mae = mean_absolute_error(test_df[target], predictions)\n",
    "print(\"MAE: \" , mae)\n",
    "print(\"MSE: \", mse)"
   ]
  }
 ],
 "metadata": {
  "kernelspec": {
   "display_name": "Python 3",
   "language": "python",
   "name": "python3"
  },
  "language_info": {
   "codemirror_mode": {
    "name": "ipython",
    "version": 3
   },
   "file_extension": ".py",
   "mimetype": "text/x-python",
   "name": "python",
   "nbconvert_exporter": "python",
   "pygments_lexer": "ipython3",
   "version": "3.7.3"
  }
 },
 "nbformat": 4,
 "nbformat_minor": 2
}
